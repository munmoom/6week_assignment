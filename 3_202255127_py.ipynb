{
  "nbformat": 4,
  "nbformat_minor": 0,
  "metadata": {
    "colab": {
      "name": "3-202255127.py",
      "provenance": [],
      "authorship_tag": "ABX9TyNkIjh/os28fFNClT4gmtTr",
      "include_colab_link": true
    },
    "kernelspec": {
      "name": "python3",
      "display_name": "Python 3"
    },
    "language_info": {
      "name": "python"
    }
  },
  "cells": [
    {
      "cell_type": "markdown",
      "metadata": {
        "id": "view-in-github",
        "colab_type": "text"
      },
      "source": [
        "<a href=\"https://colab.research.google.com/github/munmoom/6week_assignment/blob/main/3_202255127_py.ipynb\" target=\"_parent\"><img src=\"https://colab.research.google.com/assets/colab-badge.svg\" alt=\"Open In Colab\"/></a>"
      ]
    },
    {
      "cell_type": "code",
      "source": [
        "def solve(a):\n",
        "  return sum(a)"
      ],
      "metadata": {
        "id": "DfJuS06StYNS"
      },
      "execution_count": 9,
      "outputs": []
    }
  ]
}