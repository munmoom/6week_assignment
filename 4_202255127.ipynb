{
  "nbformat": 4,
  "nbformat_minor": 0,
  "metadata": {
    "colab": {
      "name": "4-202255127.ipynb",
      "provenance": [],
      "authorship_tag": "ABX9TyO0uJ4CSG89wnxR5pGlABA6",
      "include_colab_link": true
    },
    "kernelspec": {
      "name": "python3",
      "display_name": "Python 3"
    },
    "language_info": {
      "name": "python"
    }
  },
  "cells": [
    {
      "cell_type": "markdown",
      "metadata": {
        "id": "view-in-github",
        "colab_type": "text"
      },
      "source": [
        "<a href=\"https://colab.research.google.com/github/munmoom/6week_assignment/blob/main/4_202255127.ipynb\" target=\"_parent\"><img src=\"https://colab.research.google.com/assets/colab-badge.svg\" alt=\"Open In Colab\"/></a>"
      ]
    },
    {
      "cell_type": "code",
      "source": [
        "a = []\n",
        "c = []\n",
        "\n",
        "for i in range(1, 10001):\n",
        "  a.append(i)\n",
        "\n",
        "for n in range(0,10):\n",
        "  k = a[n]\n",
        "  j = map(int,str(k))\n",
        "  j = sum(j)\n",
        "  f = k + j\n",
        "  c.append(f)\n",
        "\n",
        "set1 = set(a)\n",
        "set2 = set(c)\n",
        "\n",
        "set3 = set1-set2\n",
        "result = list(set3)\n",
        "\n",
        "for num in result:\n",
        " print(num)\n"
      ],
      "metadata": {
        "id": "97cIqLYYQ4DM"
      },
      "execution_count": null,
      "outputs": []
    }
  ]
}