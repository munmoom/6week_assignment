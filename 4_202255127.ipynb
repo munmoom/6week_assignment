{
  "nbformat": 4,
  "nbformat_minor": 0,
  "metadata": {
    "colab": {
      "name": "4-202255127.ipynb",
      "provenance": [],
      "authorship_tag": "ABX9TyOoNLEm/HzXbcEGwCTCEV1q",
      "include_colab_link": true
    },
    "kernelspec": {
      "name": "python3",
      "display_name": "Python 3"
    },
    "language_info": {
      "name": "python"
    }
  },
  "cells": [
    {
      "cell_type": "markdown",
      "metadata": {
        "id": "view-in-github",
        "colab_type": "text"
      },
      "source": [
        "<a href=\"https://colab.research.google.com/github/munmoom/6week_assignment/blob/main/4_202255127.ipynb\" target=\"_parent\"><img src=\"https://colab.research.google.com/assets/colab-badge.svg\" alt=\"Open In Colab\"/></a>"
      ]
    },
    {
      "cell_type": "markdown",
      "source": [
        "입력은 없다. 10,000보다 작거나 같은 셀프 넘버를 한 줄에 하나씩 증가하는 순서로 출력한다.\n",
        "\n",
        "\n",
        "양의 정수 n에 대해서 d(n)을 n과 n의 각 자리수를 더하는 함수라고 정의하자. \n",
        "\n",
        "\n",
        "\n",
        "예를 들어, d(75) = 75+7+5 = 87이다.\n",
        "\n",
        "\n",
        "\n",
        "양의 정수 n이 주어졌을 때, 이 수를 시작해서 n, d(n), d(d(n)), d(d(d(n))), ...과 같은 무한 수열을 만들 수 있다.\n",
        "\n",
        "\n",
        "\n",
        "예를 들어, 33으로 시작한다면 다음 수는 33 + 3 + 3 = 39이고, 그 다음 수는 39 + 3 +9 = 51, 다음 수는 51 + 5 + 1 = 57이다. \n",
        "\n",
        "\n",
        "\n",
        "이런식으로 다음과 같은 수열을 만들 수 있다.\n",
        "\n",
        "\n",
        "\n",
        "33, 39, 51, 57, 69, 84, 96, 111, 114, 120, 123, 129, 141, ...\n",
        "\n",
        "\n",
        "\n",
        "n을 d(n)의 생성자라고 한다. \n",
        "\n",
        "\n",
        "\n",
        "위의 수열에서 33은 39의 생성자이고, 39는 51의 생성자, 51은 57의 생성자이다. \n",
        "\n",
        "\n",
        "\n",
        "생성자가 한 개보다 많은 경우도 있다. \n",
        "\n",
        "\n",
        "\n",
        "예를 들어, 101은 생성자가 2개(91과 100) 있다.\n",
        "\n",
        "\n",
        "\n",
        "생성자가 없는 숫자를 셀프 넘버라고 한다. 100보다 작은 셀프 넘버는 총 13개가 있다.\n",
        "\n",
        "\n",
        "\n",
        "1, 3, 5, 7, 9, 20, 31, 42, 53, 64, 75, 86, 97\n",
        "\n",
        "\n",
        "\n",
        "10000보다 작거나 같은 셀프 넘버를 한 줄에 하나씩 출력하는 프로그램을 작성하시오.\n",
        "\n",
        "\n",
        "\n",
        "출처 : https://www.acmicpc.net/problem/4673"
      ],
      "metadata": {
        "id": "IQ8okbhAvVe6"
      }
    },
    {
      "cell_type": "code",
      "source": [
        "a = []\n",
        "c = []\n",
        "\n",
        "for i in range(1, 10001):\n",
        "  a = a.append(i)\n",
        "  \n",
        "for n in range(0,10000):\n",
        "  k = index(n)\n",
        "  k == j\n",
        "  j = list(j)\n",
        "  f = k + sum(j)\n",
        "  c = c.append(f)\n",
        "\n",
        " \n",
        "set1 = set(a)\n",
        "set2 = set(c)\n",
        "\n",
        "set3 = set1-set2\n",
        "result = list(set3)\n",
        "for num in result:\n",
        " print(num)"
      ],
      "metadata": {
        "colab": {
          "base_uri": "https://localhost:8080/",
          "height": 245
        },
        "id": "yPWra3VIx36s",
        "outputId": "ff412660-9a63-4d34-e3ad-8b51ab01aa86"
      },
      "execution_count": 12,
      "outputs": [
        {
          "output_type": "error",
          "ename": "AttributeError",
          "evalue": "ignored",
          "traceback": [
            "\u001b[0;31m---------------------------------------------------------------------------\u001b[0m",
            "\u001b[0;31mAttributeError\u001b[0m                            Traceback (most recent call last)",
            "\u001b[0;32m<ipython-input-12-780b1dec1b1c>\u001b[0m in \u001b[0;36m<module>\u001b[0;34m()\u001b[0m\n\u001b[1;32m      4\u001b[0m \u001b[0;34m\u001b[0m\u001b[0m\n\u001b[1;32m      5\u001b[0m \u001b[0;32mfor\u001b[0m \u001b[0mi\u001b[0m \u001b[0;32min\u001b[0m \u001b[0mrange\u001b[0m\u001b[0;34m(\u001b[0m\u001b[0;36m1\u001b[0m\u001b[0;34m,\u001b[0m \u001b[0;36m10001\u001b[0m\u001b[0;34m)\u001b[0m\u001b[0;34m:\u001b[0m\u001b[0;34m\u001b[0m\u001b[0;34m\u001b[0m\u001b[0m\n\u001b[0;32m----> 6\u001b[0;31m   \u001b[0ma\u001b[0m \u001b[0;34m=\u001b[0m \u001b[0ma\u001b[0m\u001b[0;34m.\u001b[0m\u001b[0mappend\u001b[0m\u001b[0;34m(\u001b[0m\u001b[0mi\u001b[0m\u001b[0;34m)\u001b[0m\u001b[0;34m\u001b[0m\u001b[0;34m\u001b[0m\u001b[0m\n\u001b[0m\u001b[1;32m      7\u001b[0m \u001b[0;32mfor\u001b[0m \u001b[0mn\u001b[0m \u001b[0;32min\u001b[0m \u001b[0mrange\u001b[0m\u001b[0;34m(\u001b[0m\u001b[0;36m0\u001b[0m\u001b[0;34m,\u001b[0m\u001b[0;36m10000\u001b[0m\u001b[0;34m)\u001b[0m\u001b[0;34m:\u001b[0m\u001b[0;34m\u001b[0m\u001b[0;34m\u001b[0m\u001b[0m\n\u001b[1;32m      8\u001b[0m   \u001b[0mk\u001b[0m \u001b[0;34m=\u001b[0m \u001b[0mindex\u001b[0m\u001b[0;34m(\u001b[0m\u001b[0mn\u001b[0m\u001b[0;34m)\u001b[0m\u001b[0;34m\u001b[0m\u001b[0;34m\u001b[0m\u001b[0m\n",
            "\u001b[0;31mAttributeError\u001b[0m: 'NoneType' object has no attribute 'append'"
          ]
        }
      ]
    }
  ]
}